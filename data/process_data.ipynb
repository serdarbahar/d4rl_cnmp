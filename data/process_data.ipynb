{
 "cells": [
  {
   "cell_type": "code",
   "execution_count": 3,
   "id": "e7e5021b",
   "metadata": {},
   "outputs": [
    {
     "name": "stdout",
     "output_type": "stream",
     "text": [
      "Observation space: Box(-inf, inf, (39,), float64)\n",
      "Action space: Box(-1.0, 1.0, (30,), float32)\n",
      "Total episodes: 25\n",
      "Total steps: 9942\n"
     ]
    }
   ],
   "source": [
    "import minari\n",
    "\n",
    "dataset = minari.load_dataset('D4RL/relocate/human-v2')\n",
    "print(\"Observation space:\", dataset.observation_space)\n",
    "print(\"Action space:\", dataset.action_space)\n",
    "print(\"Total episodes:\", dataset.total_episodes)\n",
    "print(\"Total steps:\", dataset.total_steps)"
   ]
  },
  {
   "cell_type": "code",
   "execution_count": 29,
   "id": "58ec9b28",
   "metadata": {},
   "outputs": [
    {
     "name": "stdout",
     "output_type": "stream",
     "text": [
      "Expert observation space: Box(-inf, inf, (39,), float64)\n",
      "Expert action space: Box(-1.0, 1.0, (30,), float32)\n",
      "Total expert episodes: 5000\n",
      "Total expert steps: 1000000\n"
     ]
    }
   ],
   "source": [
    "expert_dataset = minari.load_dataset('D4RL/relocate/expert-v2')\n",
    "print(\"Expert observation space:\", expert_dataset.observation_space)\n",
    "print(\"Expert action space:\", expert_dataset.action_space)\n",
    "print(\"Total expert episodes:\", expert_dataset.total_episodes)\n",
    "print(\"Total expert steps:\", expert_dataset.total_steps)\n"
   ]
  },
  {
   "cell_type": "code",
   "execution_count": null,
   "id": "73de90c0",
   "metadata": {},
   "outputs": [],
   "source": [
    "from scipy.interpolate import interp1d\n",
    "import numpy as np\n",
    "\n",
    "trajectories = np.zeros((25, 200, 30+39))\n",
    "\n",
    "for i in range(25):\n",
    "    episode = dataset[i]\n",
    "    obs = episode.observations[:-1]\n",
    "    actions = episode.actions\n",
    "\n",
    "    T = np.linspace(0, 1, 200)\n",
    "    obs_interp = interp1d(np.linspace(0, 1, len(obs)), obs, axis=0)(T)\n",
    "    actions_interp = interp1d(np.linspace(0, 1, len(actions)), actions, axis=0)(T)\n",
    "\n",
    "    trajectories[i, :, :30] = actions_interp\n",
    "    trajectories[i, :, 30:] = obs_interp"
   ]
  },
  {
   "cell_type": "code",
   "execution_count": null,
   "id": "5abd4e5f",
   "metadata": {},
   "outputs": [],
   "source": [
    "from scipy.interpolate import interp1d\n",
    "import numpy as np\n",
    "\n",
    "num_traj = 25\n",
    "trajectories = np.zeros((num_traj, 200, 30+39))\n",
    "\n",
    "for i in range(num_traj):\n",
    "    episode = dataset[i]\n",
    "    obs = episode.observations\n",
    "    actions = episode.actions\n",
    "\n",
    "    raw_episode_obs = np.zeros((len(obs), 39))\n",
    "    raw_episode_act = np.zeros((len(actions)+1, 30))\n",
    "\n",
    "    raw_episode_obs = obs\n",
    "    raw_episode_act[1:] = actions\n",
    "\n",
    "    print(f\"Episode {i} - Observations shape: {raw_episode_obs.shape}, Actions shape: {raw_episode_act.shape}\")\n",
    "\n",
    "    raw_episode = np.concatenate((raw_episode_obs, raw_episode_act), axis=-1)\n",
    "\n",
    "    T = np.linspace(0, 1, 200)\n",
    "    episode_interp = interp1d(np.linspace(0, 1, len(raw_episode)), raw_episode, axis=0)(T)\n",
    "\n",
    "    trajectories[i] = episode_interp"
   ]
  },
  {
   "cell_type": "code",
   "execution_count": 5,
   "id": "ab3896bc",
   "metadata": {},
   "outputs": [
    {
     "name": "stdout",
     "output_type": "stream",
     "text": [
      "Expert trajectories shape: (25, 200, 69)\n"
     ]
    }
   ],
   "source": [
    "print(\"Expert trajectories shape:\", trajectories.shape)\n",
    "np.save('trajectories_v2.npy',trajectories)"
   ]
  },
  {
   "cell_type": "markdown",
   "id": "1973fa48",
   "metadata": {},
   "source": [
    "New dataset"
   ]
  },
  {
   "cell_type": "code",
   "execution_count": null,
   "id": "9dc2f1c7",
   "metadata": {},
   "outputs": [],
   "source": [
    "from scipy.interpolate import interp1d\n",
    "import numpy as np\n",
    "import pickle\n",
    "\n",
    "absolute_initial_palm_pos = np.array([-0.00692036, -0.19996033, 0.15038709])\n",
    "absolute_dataset = pickle.load(open('data/relocate.pickle', 'rb'))\n",
    "\n",
    "num_traj = 25\n",
    "\n",
    "new_context = np.zeros((num_traj, 12))\n",
    "new_action_trajectories = np.zeros((num_traj, 200, 30))\n",
    "new_observation_trajectories = np.zeros((num_traj, 200, 30))\n",
    "\n",
    "for i in range(num_traj):\n",
    "    episode = dataset[i]\n",
    "    actions = episode.actions\n",
    "    observations = episode.observations\n",
    "\n",
    "    raw_episode_act = actions\n",
    "\n",
    "    raw_episode_obs = np.zeros((len(observations), 30 + 12))\n",
    "    raw_episode_obs[:, :30] = observations\n",
    "\n",
    "\n",
    "\n",
    "    \n",
    "\n",
    "    T = np.linspace(0, 1, 200)\n",
    "    episode_act_interp = interp1d(np.linspace(0, 1, len(raw_episode_act)), raw_episode_act, axis=0)(T)\n",
    "    episode_obs_interp = interp1d(np.linspace(0, 1, len(raw_episode_obs)), raw_episode_obs, axis=0)(T)\n",
    "    \n",
    "    new_action_trajectories[i] = episode_act_interp\n",
    "    new_observation_trajectories[i] = episode_obs_interp\n",
    "\n",
    "    initial_abs_dict = absolute_dataset[i]['init_state_dict']\n",
    "    new_context[i, :3] = absolute_initial_palm_pos - initial_abs_dict['obj_pos']\n",
    "    new_context[i, 3:6] = absolute_initial_palm_pos - initial_abs_dict['target_pos']\n",
    "    new_context[i, 6:9] = initial_abs_dict['obj_pos']\n",
    "    new_context[i, 9:12] = initial_abs_dict['target_pos']\n",
    "\n",
    "\n",
    "np.save('new_observation_trajectories.npy', new_observation_trajectories)\n",
    "np.save('new_action_trajectories.npy', new_action_trajectories)\n",
    "np.save('new_diff_context.npy', new_context)"
   ]
  }
 ],
 "metadata": {
  "kernelspec": {
   "display_name": "d4rl",
   "language": "python",
   "name": "python3"
  },
  "language_info": {
   "codemirror_mode": {
    "name": "ipython",
    "version": 3
   },
   "file_extension": ".py",
   "mimetype": "text/x-python",
   "name": "python",
   "nbconvert_exporter": "python",
   "pygments_lexer": "ipython3",
   "version": "3.11.13"
  }
 },
 "nbformat": 4,
 "nbformat_minor": 5
}

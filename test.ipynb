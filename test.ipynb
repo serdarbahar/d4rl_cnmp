{
 "cells": [
  {
   "cell_type": "code",
   "execution_count": null,
   "id": "10c248ea",
   "metadata": {},
   "outputs": [
    {
     "name": "stdout",
     "output_type": "stream",
     "text": [
      "Keys: <KeysViewHDF5 ['actions', 'infos', 'observations', 'rewards', 'terminals', 'timeouts']>\n",
      "qpos shape: (9942, 36)\n",
      "qvel shape: (9942, 36)\n"
     ]
    }
   ],
   "source": [
    "import h5py\n",
    "import numpy as np\n",
    "\n",
    "# Open the HDF5 file in read-only mode\n",
    "with h5py.File('relocate-human-v1.hdf5', 'r') as f:\n",
    "    # List all groups\n",
    "    print(\"Keys: %s\" % f.keys())\n",
    "    \n",
    "    \n",
    "    qpos = f['infos']['qpos'][:]\n",
    "    qvel = f['infos']['qvel'][:]\n",
    "\n",
    "    print(\"qpos shape:\", qpos.shape)\n",
    "    print(\"qvel shape:\", qvel.shape)"
   ]
  }
 ],
 "metadata": {
  "kernelspec": {
   "display_name": "aist",
   "language": "python",
   "name": "python3"
  },
  "language_info": {
   "codemirror_mode": {
    "name": "ipython",
    "version": 3
   },
   "file_extension": ".py",
   "mimetype": "text/x-python",
   "name": "python",
   "nbconvert_exporter": "python",
   "pygments_lexer": "ipython3",
   "version": "3.11.13"
  }
 },
 "nbformat": 4,
 "nbformat_minor": 5
}
